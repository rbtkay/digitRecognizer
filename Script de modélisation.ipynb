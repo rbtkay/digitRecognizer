{
 "cells": [
  {
   "cell_type": "code",
   "execution_count": 1,
   "id": "absolute-raleigh",
   "metadata": {},
   "outputs": [],
   "source": [
    "import pandas as pd \n",
    "from sklearn import tree\n",
    "from sklearn.model_selection import train_test_split\n",
    "from sklearn.metrics import confusion_matrix\n",
    "import pickle\n",
    "from matplotlib import pyplot as plt"
   ]
  },
  {
   "cell_type": "markdown",
   "id": "rotary-express",
   "metadata": {},
   "source": [
    "# Chargement des données"
   ]
  },
  {
   "cell_type": "code",
   "execution_count": 2,
   "id": "level-tonight",
   "metadata": {},
   "outputs": [
    {
     "data": {
      "text/html": [
       "<div>\n",
       "<style scoped>\n",
       "    .dataframe tbody tr th:only-of-type {\n",
       "        vertical-align: middle;\n",
       "    }\n",
       "\n",
       "    .dataframe tbody tr th {\n",
       "        vertical-align: top;\n",
       "    }\n",
       "\n",
       "    .dataframe thead th {\n",
       "        text-align: right;\n",
       "    }\n",
       "</style>\n",
       "<table border=\"1\" class=\"dataframe\">\n",
       "  <thead>\n",
       "    <tr style=\"text-align: right;\">\n",
       "      <th></th>\n",
       "      <th>label</th>\n",
       "      <th>pixel0</th>\n",
       "      <th>pixel1</th>\n",
       "      <th>pixel2</th>\n",
       "      <th>pixel3</th>\n",
       "      <th>pixel4</th>\n",
       "      <th>pixel5</th>\n",
       "      <th>pixel6</th>\n",
       "      <th>pixel7</th>\n",
       "      <th>pixel8</th>\n",
       "      <th>...</th>\n",
       "      <th>pixel774</th>\n",
       "      <th>pixel775</th>\n",
       "      <th>pixel776</th>\n",
       "      <th>pixel777</th>\n",
       "      <th>pixel778</th>\n",
       "      <th>pixel779</th>\n",
       "      <th>pixel780</th>\n",
       "      <th>pixel781</th>\n",
       "      <th>pixel782</th>\n",
       "      <th>pixel783</th>\n",
       "    </tr>\n",
       "  </thead>\n",
       "  <tbody>\n",
       "    <tr>\n",
       "      <th>0</th>\n",
       "      <td>1</td>\n",
       "      <td>0</td>\n",
       "      <td>0</td>\n",
       "      <td>0</td>\n",
       "      <td>0</td>\n",
       "      <td>0</td>\n",
       "      <td>0</td>\n",
       "      <td>0</td>\n",
       "      <td>0</td>\n",
       "      <td>0</td>\n",
       "      <td>...</td>\n",
       "      <td>0</td>\n",
       "      <td>0</td>\n",
       "      <td>0</td>\n",
       "      <td>0</td>\n",
       "      <td>0</td>\n",
       "      <td>0</td>\n",
       "      <td>0</td>\n",
       "      <td>0</td>\n",
       "      <td>0</td>\n",
       "      <td>0</td>\n",
       "    </tr>\n",
       "    <tr>\n",
       "      <th>1</th>\n",
       "      <td>0</td>\n",
       "      <td>0</td>\n",
       "      <td>0</td>\n",
       "      <td>0</td>\n",
       "      <td>0</td>\n",
       "      <td>0</td>\n",
       "      <td>0</td>\n",
       "      <td>0</td>\n",
       "      <td>0</td>\n",
       "      <td>0</td>\n",
       "      <td>...</td>\n",
       "      <td>0</td>\n",
       "      <td>0</td>\n",
       "      <td>0</td>\n",
       "      <td>0</td>\n",
       "      <td>0</td>\n",
       "      <td>0</td>\n",
       "      <td>0</td>\n",
       "      <td>0</td>\n",
       "      <td>0</td>\n",
       "      <td>0</td>\n",
       "    </tr>\n",
       "    <tr>\n",
       "      <th>2</th>\n",
       "      <td>1</td>\n",
       "      <td>0</td>\n",
       "      <td>0</td>\n",
       "      <td>0</td>\n",
       "      <td>0</td>\n",
       "      <td>0</td>\n",
       "      <td>0</td>\n",
       "      <td>0</td>\n",
       "      <td>0</td>\n",
       "      <td>0</td>\n",
       "      <td>...</td>\n",
       "      <td>0</td>\n",
       "      <td>0</td>\n",
       "      <td>0</td>\n",
       "      <td>0</td>\n",
       "      <td>0</td>\n",
       "      <td>0</td>\n",
       "      <td>0</td>\n",
       "      <td>0</td>\n",
       "      <td>0</td>\n",
       "      <td>0</td>\n",
       "    </tr>\n",
       "    <tr>\n",
       "      <th>3</th>\n",
       "      <td>4</td>\n",
       "      <td>0</td>\n",
       "      <td>0</td>\n",
       "      <td>0</td>\n",
       "      <td>0</td>\n",
       "      <td>0</td>\n",
       "      <td>0</td>\n",
       "      <td>0</td>\n",
       "      <td>0</td>\n",
       "      <td>0</td>\n",
       "      <td>...</td>\n",
       "      <td>0</td>\n",
       "      <td>0</td>\n",
       "      <td>0</td>\n",
       "      <td>0</td>\n",
       "      <td>0</td>\n",
       "      <td>0</td>\n",
       "      <td>0</td>\n",
       "      <td>0</td>\n",
       "      <td>0</td>\n",
       "      <td>0</td>\n",
       "    </tr>\n",
       "    <tr>\n",
       "      <th>4</th>\n",
       "      <td>0</td>\n",
       "      <td>0</td>\n",
       "      <td>0</td>\n",
       "      <td>0</td>\n",
       "      <td>0</td>\n",
       "      <td>0</td>\n",
       "      <td>0</td>\n",
       "      <td>0</td>\n",
       "      <td>0</td>\n",
       "      <td>0</td>\n",
       "      <td>...</td>\n",
       "      <td>0</td>\n",
       "      <td>0</td>\n",
       "      <td>0</td>\n",
       "      <td>0</td>\n",
       "      <td>0</td>\n",
       "      <td>0</td>\n",
       "      <td>0</td>\n",
       "      <td>0</td>\n",
       "      <td>0</td>\n",
       "      <td>0</td>\n",
       "    </tr>\n",
       "  </tbody>\n",
       "</table>\n",
       "<p>5 rows × 785 columns</p>\n",
       "</div>"
      ],
      "text/plain": [
       "   label  pixel0  pixel1  pixel2  pixel3  pixel4  pixel5  pixel6  pixel7  \\\n",
       "0      1       0       0       0       0       0       0       0       0   \n",
       "1      0       0       0       0       0       0       0       0       0   \n",
       "2      1       0       0       0       0       0       0       0       0   \n",
       "3      4       0       0       0       0       0       0       0       0   \n",
       "4      0       0       0       0       0       0       0       0       0   \n",
       "\n",
       "   pixel8  ...  pixel774  pixel775  pixel776  pixel777  pixel778  pixel779  \\\n",
       "0       0  ...         0         0         0         0         0         0   \n",
       "1       0  ...         0         0         0         0         0         0   \n",
       "2       0  ...         0         0         0         0         0         0   \n",
       "3       0  ...         0         0         0         0         0         0   \n",
       "4       0  ...         0         0         0         0         0         0   \n",
       "\n",
       "   pixel780  pixel781  pixel782  pixel783  \n",
       "0         0         0         0         0  \n",
       "1         0         0         0         0  \n",
       "2         0         0         0         0  \n",
       "3         0         0         0         0  \n",
       "4         0         0         0         0  \n",
       "\n",
       "[5 rows x 785 columns]"
      ]
     },
     "execution_count": 2,
     "metadata": {},
     "output_type": "execute_result"
    }
   ],
   "source": [
    "digits = pd.read_csv(\"./data-csv/train.csv\")\n",
    "digits.head()"
   ]
  },
  {
   "cell_type": "code",
   "execution_count": 3,
   "id": "received-tradition",
   "metadata": {},
   "outputs": [],
   "source": [
    "y = digits[\"label\"]\n",
    "x = digits[digits.columns.drop(\"label\")]"
   ]
  },
  {
   "cell_type": "markdown",
   "id": "isolated-moscow",
   "metadata": {},
   "source": [
    "# Analyse"
   ]
  },
  {
   "cell_type": "code",
   "execution_count": 4,
   "id": "resistant-times",
   "metadata": {},
   "outputs": [
    {
     "data": {
      "text/plain": [
       "1    4684\n",
       "7    4401\n",
       "3    4351\n",
       "9    4188\n",
       "2    4177\n",
       "6    4137\n",
       "0    4132\n",
       "4    4072\n",
       "8    4063\n",
       "5    3795\n",
       "Name: label, dtype: int64"
      ]
     },
     "execution_count": 4,
     "metadata": {},
     "output_type": "execute_result"
    }
   ],
   "source": [
    "# evaluation du nombre de données par modélisation (ex: il y a 4684 lignes avec le label 1)\n",
    "digits['label'].value_counts()"
   ]
  },
  {
   "cell_type": "markdown",
   "id": "primary-insert",
   "metadata": {},
   "source": [
    "# Découpage du jeu de données (futur modèle)"
   ]
  },
  {
   "cell_type": "code",
   "execution_count": 5,
   "id": "ordinary-soccer",
   "metadata": {},
   "outputs": [],
   "source": [
    "# reparti le set entre un set de train et un set de test\n",
    "x_train, x_test, y_train, y_test = train_test_split(x, y, test_size=0.33, stratify=y, random_state=42)"
   ]
  },
  {
   "cell_type": "code",
   "execution_count": 6,
   "id": "metric-austin",
   "metadata": {},
   "outputs": [
    {
     "data": {
      "text/plain": [
       "1    3138\n",
       "7    2949\n",
       "3    2915\n",
       "9    2806\n",
       "2    2799\n",
       "6    2772\n",
       "0    2768\n",
       "4    2728\n",
       "8    2722\n",
       "5    2543\n",
       "Name: label, dtype: int64"
      ]
     },
     "execution_count": 6,
     "metadata": {},
     "output_type": "execute_result"
    }
   ],
   "source": [
    "# nombre de fois où un label est utilisé dans l'entrainement\n",
    "y_train.value_counts()"
   ]
  },
  {
   "cell_type": "code",
   "execution_count": 7,
   "id": "proprietary-customs",
   "metadata": {},
   "outputs": [
    {
     "data": {
      "text/plain": [
       "1    1546\n",
       "7    1452\n",
       "3    1436\n",
       "9    1382\n",
       "2    1378\n",
       "6    1365\n",
       "0    1364\n",
       "4    1344\n",
       "8    1341\n",
       "5    1252\n",
       "Name: label, dtype: int64"
      ]
     },
     "execution_count": 7,
     "metadata": {},
     "output_type": "execute_result"
    }
   ],
   "source": [
    "# nombre de fois où un label est utilisé dans l'entrainement\n",
    "y_test.value_counts()"
   ]
  },
  {
   "cell_type": "code",
   "execution_count": 8,
   "id": "compound-barcelona",
   "metadata": {},
   "outputs": [
    {
     "data": {
      "text/plain": [
       "1    4684\n",
       "7    4401\n",
       "3    4351\n",
       "9    4188\n",
       "2    4177\n",
       "6    4137\n",
       "0    4132\n",
       "4    4072\n",
       "8    4063\n",
       "5    3795\n",
       "Name: label, dtype: int64"
      ]
     },
     "execution_count": 8,
     "metadata": {},
     "output_type": "execute_result"
    }
   ],
   "source": [
    "# on remarque que y_train.value_counts() + y_test.value_counts() = digits['label'].value_counts()\n",
    "# la division du set a donc été effectuée correctement \n",
    "y_train.value_counts() + y_test.value_counts()"
   ]
  },
  {
   "cell_type": "markdown",
   "id": "placed-consistency",
   "metadata": {},
   "source": [
    "# Entrainement du modèle et prediction"
   ]
  },
  {
   "cell_type": "code",
   "execution_count": 9,
   "id": "abroad-puzzle",
   "metadata": {},
   "outputs": [],
   "source": [
    "depth = range(2,50)\n",
    "errors = []\n",
    "err_default = 15\n",
    "\n",
    "for d in depth:\n",
    "    modelDecisionTreeClassifier = tree.DecisionTreeClassifier(max_depth=d)\n",
    "    modelDecisionTreeClassifier = modelDecisionTreeClassifier.fit(x_train, y_train)\n",
    "\n",
    "    err = round((1.0 - modelDecisionTreeClassifier.score(x_test, y_test)) * 100, 3)\n",
    "    errors.append(err)\n",
    "    #print(f\"\\n\\nResults : decision tree = {modelDecisionTreeClassifier.get_depth()} => err_test = {err}\\n\")\n",
    "    #print(f'Improvement of {-(err - err_default)}%\\n\\n')"
   ]
  },
  {
   "cell_type": "code",
   "execution_count": 10,
   "id": "inappropriate-moment",
   "metadata": {},
   "outputs": [
    {
     "data": {
      "image/png": "[encoded data removed]",
      "text/plain": [
       "<Figure size 432x288 with 1 Axes>"
      ]
     },
     "metadata": {
      "needs_background": "light"
     },
     "output_type": "display_data"
    }
   ],
   "source": [
    "# evolution du taux d'erreurs par rapport au niveau de profondeur\n",
    "plt.plot(depth, errors, 'b')\n",
    "plt.xlabel('depth')\n",
    "plt.show()"
   ]
  },
  {
   "cell_type": "markdown",
   "id": "cosmetic-albert",
   "metadata": {},
   "source": [
    "# Entrainement et prédiction optimals "
   ]
  },
  {
   "cell_type": "code",
   "execution_count": 11,
   "id": "dated-dominant",
   "metadata": {},
   "outputs": [],
   "source": [
    "# entrainement du modèle \n",
    "OPTIMUM_DEPTH = 12\n",
    "modelDecisionTreeClassifier = tree.DecisionTreeClassifier(max_depth=OPTIMUM_DEPTH)\n",
    "modelDecisionTreeClassifier = modelDecisionTreeClassifier.fit(x_train, y_train)"
   ]
  },
  {
   "cell_type": "code",
   "execution_count": 12,
   "id": "documentary-poker",
   "metadata": {},
   "outputs": [],
   "source": [
    "# prediction sur x_test\n",
    "y_prediction = modelDecisionTreeClassifier.predict(x_test)"
   ]
  },
  {
   "cell_type": "code",
   "execution_count": 13,
   "id": "conventional-nickname",
   "metadata": {},
   "outputs": [
    {
     "data": {
      "text/plain": [
       "array([9, 6, 5, ..., 5, 0, 6])"
      ]
     },
     "execution_count": 13,
     "metadata": {},
     "output_type": "execute_result"
    }
   ],
   "source": [
    "# affichage prédiction\n",
    "y_prediction"
   ]
  },
  {
   "cell_type": "code",
   "execution_count": 14,
   "id": "phantom-regulation",
   "metadata": {},
   "outputs": [
    {
     "data": {
      "text/plain": [
       "3467     9\n",
       "36891    6\n",
       "33659    5\n",
       "20365    6\n",
       "8340     0\n",
       "        ..\n",
       "29853    5\n",
       "6166     9\n",
       "8253     5\n",
       "27736    0\n",
       "40623    5\n",
       "Name: label, Length: 13860, dtype: int64"
      ]
     },
     "execution_count": 14,
     "metadata": {},
     "output_type": "execute_result"
    }
   ],
   "source": [
    "# set d'origine\n",
    "y_test"
   ]
  },
  {
   "cell_type": "markdown",
   "id": "round-parker",
   "metadata": {},
   "source": [
    "# Retour sur expérience - pourcentage d'erreur"
   ]
  },
  {
   "cell_type": "code",
   "execution_count": 15,
   "id": "strange-clone",
   "metadata": {},
   "outputs": [],
   "source": [
    "conf_mat = confusion_matrix(y_test, y_prediction)"
   ]
  },
  {
   "cell_type": "code",
   "execution_count": 16,
   "id": "hollow-petersburg",
   "metadata": {},
   "outputs": [],
   "source": [
    "acc = conf_mat.diagonal().sum()/conf_mat.sum()"
   ]
  },
  {
   "cell_type": "code",
   "execution_count": 17,
   "id": "sunrise-sentence",
   "metadata": {},
   "outputs": [
    {
     "name": "stdout",
     "output_type": "stream",
     "text": [
      "taux d'erreur: 14.494949494949495\n"
     ]
    }
   ],
   "source": [
    "err = 1 - acc\n",
    "print(\"taux d'erreur:\", err * 100)"
   ]
  },
  {
   "cell_type": "markdown",
   "id": "wireless-folder",
   "metadata": {},
   "source": [
    "# Sauvegarde du modèle"
   ]
  },
  {
   "cell_type": "code",
   "execution_count": 18,
   "id": "surprised-sacramento",
   "metadata": {},
   "outputs": [],
   "source": [
    "filename = \"./digit_recognizer.sav\"\n",
    "\n",
    "pickle.dump(modelDecisionTreeClassifier, open(filename, 'wb'))"
   ]
  }
 ],
 "metadata": {
  "kernelspec": {
   "display_name": "Python 3",
   "language": "python",
   "name": "python3"
  },
  "language_info": {
   "codemirror_mode": {
    "name": "ipython",
    "version": 3
   },
   "file_extension": ".py",
   "mimetype": "text/x-python",
   "name": "python",
   "nbconvert_exporter": "python",
   "pygments_lexer": "ipython3",
   "version": "3.8.5"
  }
 },
 "nbformat": 4,
 "nbformat_minor": 5
}
