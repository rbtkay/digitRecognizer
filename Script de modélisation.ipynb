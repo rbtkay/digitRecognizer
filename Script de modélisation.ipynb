{
 "cells": [
  {
   "cell_type": "code",
   "execution_count": 32,
   "id": "robust-yorkshire",
   "metadata": {},
   "outputs": [],
   "source": [
    "import pandas as pd \n",
    "from sklearn import tree\n",
    "from sklearn.model_selection import train_test_split\n",
    "from sklearn.metrics import confusion_matrix\n",
    "from sklearn.dummy import DummyClassifier\n",
    "import numpy as np\n",
    "import pickle\n",
    "from matplotlib import pyplot as plt\n",
    "from sklearn.ensemble import RandomForestClassifier\n",
    "from datetime import date\n",
    "import csv\n",
    "import os"
   ]
  },
  {
   "cell_type": "markdown",
   "id": "overhead-catch",
   "metadata": {},
   "source": [
    "# Chargement des données"
   ]
  },
  {
   "cell_type": "code",
   "execution_count": 16,
   "id": "amazing-purpose",
   "metadata": {},
   "outputs": [
    {
     "data": {
      "text/html": [
       "<div>\n",
       "<style scoped>\n",
       "    .dataframe tbody tr th:only-of-type {\n",
       "        vertical-align: middle;\n",
       "    }\n",
       "\n",
       "    .dataframe tbody tr th {\n",
       "        vertical-align: top;\n",
       "    }\n",
       "\n",
       "    .dataframe thead th {\n",
       "        text-align: right;\n",
       "    }\n",
       "</style>\n",
       "<table border=\"1\" class=\"dataframe\">\n",
       "  <thead>\n",
       "    <tr style=\"text-align: right;\">\n",
       "      <th></th>\n",
       "      <th>label</th>\n",
       "      <th>pixel0</th>\n",
       "      <th>pixel1</th>\n",
       "      <th>pixel2</th>\n",
       "      <th>pixel3</th>\n",
       "      <th>pixel4</th>\n",
       "      <th>pixel5</th>\n",
       "      <th>pixel6</th>\n",
       "      <th>pixel7</th>\n",
       "      <th>pixel8</th>\n",
       "      <th>...</th>\n",
       "      <th>pixel774</th>\n",
       "      <th>pixel775</th>\n",
       "      <th>pixel776</th>\n",
       "      <th>pixel777</th>\n",
       "      <th>pixel778</th>\n",
       "      <th>pixel779</th>\n",
       "      <th>pixel780</th>\n",
       "      <th>pixel781</th>\n",
       "      <th>pixel782</th>\n",
       "      <th>pixel783</th>\n",
       "    </tr>\n",
       "  </thead>\n",
       "  <tbody>\n",
       "    <tr>\n",
       "      <th>0</th>\n",
       "      <td>1</td>\n",
       "      <td>0</td>\n",
       "      <td>0</td>\n",
       "      <td>0</td>\n",
       "      <td>0</td>\n",
       "      <td>0</td>\n",
       "      <td>0</td>\n",
       "      <td>0</td>\n",
       "      <td>0</td>\n",
       "      <td>0</td>\n",
       "      <td>...</td>\n",
       "      <td>0</td>\n",
       "      <td>0</td>\n",
       "      <td>0</td>\n",
       "      <td>0</td>\n",
       "      <td>0</td>\n",
       "      <td>0</td>\n",
       "      <td>0</td>\n",
       "      <td>0</td>\n",
       "      <td>0</td>\n",
       "      <td>0</td>\n",
       "    </tr>\n",
       "    <tr>\n",
       "      <th>1</th>\n",
       "      <td>0</td>\n",
       "      <td>0</td>\n",
       "      <td>0</td>\n",
       "      <td>0</td>\n",
       "      <td>0</td>\n",
       "      <td>0</td>\n",
       "      <td>0</td>\n",
       "      <td>0</td>\n",
       "      <td>0</td>\n",
       "      <td>0</td>\n",
       "      <td>...</td>\n",
       "      <td>0</td>\n",
       "      <td>0</td>\n",
       "      <td>0</td>\n",
       "      <td>0</td>\n",
       "      <td>0</td>\n",
       "      <td>0</td>\n",
       "      <td>0</td>\n",
       "      <td>0</td>\n",
       "      <td>0</td>\n",
       "      <td>0</td>\n",
       "    </tr>\n",
       "    <tr>\n",
       "      <th>2</th>\n",
       "      <td>1</td>\n",
       "      <td>0</td>\n",
       "      <td>0</td>\n",
       "      <td>0</td>\n",
       "      <td>0</td>\n",
       "      <td>0</td>\n",
       "      <td>0</td>\n",
       "      <td>0</td>\n",
       "      <td>0</td>\n",
       "      <td>0</td>\n",
       "      <td>...</td>\n",
       "      <td>0</td>\n",
       "      <td>0</td>\n",
       "      <td>0</td>\n",
       "      <td>0</td>\n",
       "      <td>0</td>\n",
       "      <td>0</td>\n",
       "      <td>0</td>\n",
       "      <td>0</td>\n",
       "      <td>0</td>\n",
       "      <td>0</td>\n",
       "    </tr>\n",
       "    <tr>\n",
       "      <th>3</th>\n",
       "      <td>4</td>\n",
       "      <td>0</td>\n",
       "      <td>0</td>\n",
       "      <td>0</td>\n",
       "      <td>0</td>\n",
       "      <td>0</td>\n",
       "      <td>0</td>\n",
       "      <td>0</td>\n",
       "      <td>0</td>\n",
       "      <td>0</td>\n",
       "      <td>...</td>\n",
       "      <td>0</td>\n",
       "      <td>0</td>\n",
       "      <td>0</td>\n",
       "      <td>0</td>\n",
       "      <td>0</td>\n",
       "      <td>0</td>\n",
       "      <td>0</td>\n",
       "      <td>0</td>\n",
       "      <td>0</td>\n",
       "      <td>0</td>\n",
       "    </tr>\n",
       "    <tr>\n",
       "      <th>4</th>\n",
       "      <td>0</td>\n",
       "      <td>0</td>\n",
       "      <td>0</td>\n",
       "      <td>0</td>\n",
       "      <td>0</td>\n",
       "      <td>0</td>\n",
       "      <td>0</td>\n",
       "      <td>0</td>\n",
       "      <td>0</td>\n",
       "      <td>0</td>\n",
       "      <td>...</td>\n",
       "      <td>0</td>\n",
       "      <td>0</td>\n",
       "      <td>0</td>\n",
       "      <td>0</td>\n",
       "      <td>0</td>\n",
       "      <td>0</td>\n",
       "      <td>0</td>\n",
       "      <td>0</td>\n",
       "      <td>0</td>\n",
       "      <td>0</td>\n",
       "    </tr>\n",
       "  </tbody>\n",
       "</table>\n",
       "<p>5 rows × 785 columns</p>\n",
       "</div>"
      ],
      "text/plain": [
       "   label  pixel0  pixel1  pixel2  pixel3  pixel4  pixel5  pixel6  pixel7  \\\n",
       "0      1       0       0       0       0       0       0       0       0   \n",
       "1      0       0       0       0       0       0       0       0       0   \n",
       "2      1       0       0       0       0       0       0       0       0   \n",
       "3      4       0       0       0       0       0       0       0       0   \n",
       "4      0       0       0       0       0       0       0       0       0   \n",
       "\n",
       "   pixel8  ...  pixel774  pixel775  pixel776  pixel777  pixel778  pixel779  \\\n",
       "0       0  ...         0         0         0         0         0         0   \n",
       "1       0  ...         0         0         0         0         0         0   \n",
       "2       0  ...         0         0         0         0         0         0   \n",
       "3       0  ...         0         0         0         0         0         0   \n",
       "4       0  ...         0         0         0         0         0         0   \n",
       "\n",
       "   pixel780  pixel781  pixel782  pixel783  \n",
       "0         0         0         0         0  \n",
       "1         0         0         0         0  \n",
       "2         0         0         0         0  \n",
       "3         0         0         0         0  \n",
       "4         0         0         0         0  \n",
       "\n",
       "[5 rows x 785 columns]"
      ]
     },
     "execution_count": 16,
     "metadata": {},
     "output_type": "execute_result"
    }
   ],
   "source": [
    "digits = pd.read_csv(\"./data-csv/train.csv\")\n",
    "digits.head()"
   ]
  },
  {
   "cell_type": "code",
   "execution_count": 17,
   "id": "polish-speaker",
   "metadata": {},
   "outputs": [],
   "source": [
    "y = digits[\"label\"]\n",
    "x = digits[digits.columns.drop(\"label\")]"
   ]
  },
  {
   "cell_type": "markdown",
   "id": "inner-pharmaceutical",
   "metadata": {},
   "source": [
    "# Découpage du jeu de données (futur modèle)"
   ]
  },
  {
   "cell_type": "code",
   "execution_count": 18,
   "id": "conceptual-clause",
   "metadata": {},
   "outputs": [],
   "source": [
    "# reparti le set entre un set de train et un set de test\n",
    "x_train, x_test, y_train, y_test = train_test_split(x, y, test_size=0.33, stratify=y, random_state=42)"
   ]
  },
  {
   "cell_type": "code",
   "execution_count": 19,
   "id": "dense-viewer",
   "metadata": {},
   "outputs": [
    {
     "data": {
      "text/plain": [
       "1    3138\n",
       "7    2949\n",
       "3    2915\n",
       "9    2806\n",
       "2    2799\n",
       "6    2772\n",
       "0    2768\n",
       "4    2728\n",
       "8    2722\n",
       "5    2543\n",
       "Name: label, dtype: int64"
      ]
     },
     "execution_count": 19,
     "metadata": {},
     "output_type": "execute_result"
    }
   ],
   "source": [
    "# nombre de fois où un label est utilisé dans l'entrainement\n",
    "y_train.value_counts()"
   ]
  },
  {
   "cell_type": "code",
   "execution_count": 20,
   "id": "advised-pointer",
   "metadata": {},
   "outputs": [
    {
     "data": {
      "text/plain": [
       "1    1546\n",
       "7    1452\n",
       "3    1436\n",
       "9    1382\n",
       "2    1378\n",
       "6    1365\n",
       "0    1364\n",
       "4    1344\n",
       "8    1341\n",
       "5    1252\n",
       "Name: label, dtype: int64"
      ]
     },
     "execution_count": 20,
     "metadata": {},
     "output_type": "execute_result"
    }
   ],
   "source": [
    "# nombre de fois où un label est utilisé dans l'entrainement\n",
    "y_test.value_counts()"
   ]
  },
  {
   "cell_type": "code",
   "execution_count": 21,
   "id": "latter-mercy",
   "metadata": {},
   "outputs": [
    {
     "data": {
      "text/plain": [
       "1    4684\n",
       "7    4401\n",
       "3    4351\n",
       "9    4188\n",
       "2    4177\n",
       "6    4137\n",
       "0    4132\n",
       "4    4072\n",
       "8    4063\n",
       "5    3795\n",
       "Name: label, dtype: int64"
      ]
     },
     "execution_count": 21,
     "metadata": {},
     "output_type": "execute_result"
    }
   ],
   "source": [
    "# on remarque que y_train.value_counts() + y_test.value_counts() = digits['label'].value_counts()\n",
    "# la division du set a donc été effectuée correctement \n",
    "y_train.value_counts() + y_test.value_counts()"
   ]
  },
  {
   "cell_type": "markdown",
   "id": "lined-edmonton",
   "metadata": {},
   "source": [
    "# Benchmark "
   ]
  },
  {
   "cell_type": "code",
   "execution_count": 8,
   "id": "complimentary-acquisition",
   "metadata": {},
   "outputs": [
    {
     "name": "stdout",
     "output_type": "stream",
     "text": [
      "taux d'erreur du dummy: 89.91341991341992\n"
     ]
    }
   ],
   "source": [
    "# entrainement du dummy_classifier\n",
    "dummy_classifier = DummyClassifier(strategy=\"uniform\")\n",
    "dummy_classifier.fit(x_train, y_train)\n",
    "\n",
    "# prediction du dummy classifier\n",
    "dummy_prediction = dummy_classifier.predict(x_test)\n",
    "dummy_prediction\n",
    "\n",
    "# calcule du taux d'erreur du dummy_classifier\n",
    "conf_mat = confusion_matrix(y_test, dummy_prediction)\n",
    "acc = conf_mat.diagonal().sum()/conf_mat.sum()\n",
    "err = 1 - acc\n",
    "print(\"taux d'erreur du dummy:\", err * 100)"
   ]
  },
  {
   "cell_type": "markdown",
   "id": "fossil-pricing",
   "metadata": {},
   "source": [
    "# Entrainement du modèle et prediction"
   ]
  },
  {
   "cell_type": "markdown",
   "id": "curious-norfolk",
   "metadata": {},
   "source": [
    "### Decision Tree Classifier"
   ]
  },
  {
   "cell_type": "code",
   "execution_count": null,
   "id": "polyphonic-plaintiff",
   "metadata": {},
   "outputs": [],
   "source": [
    "depth = range(2,20)\n",
    "errors = []\n",
    "\n",
    "for d in depth:\n",
    "    modelDecisionTreeClassifier = tree.DecisionTreeClassifier(max_depth=d)\n",
    "    modelDecisionTreeClassifier.fit(x_train, y_train)\n",
    "\n",
    "    err = round((1.0 - modelDecisionTreeClassifier.score(x_test, y_test)) * 100, 3)\n",
    "    errors.append(err)\n",
    "    "
   ]
  },
  {
   "cell_type": "code",
   "execution_count": null,
   "id": "aging-background",
   "metadata": {},
   "outputs": [],
   "source": [
    "plt.plot(errors, 'b')\n",
    "plt.xlabel('depth')\n",
    "plt.show()"
   ]
  },
  {
   "cell_type": "code",
   "execution_count": null,
   "id": "improved-natural",
   "metadata": {},
   "outputs": [],
   "source": [
    "OPTIMUM_DEPTH = 12\n",
    "# entrainement du modèle avec la profondeur optimal\n",
    "modelDecisionTreeClassifier = tree.DecisionTreeClassifier(max_depth=OPTIMUM_DEPTH)\n",
    "modelDecisionTreeClassifier.fit(x_train, y_train)\n",
    "\n",
    "# prediction sur x_test\n",
    "y_prediction = modelDecisionTreeClassifier.predict(x_test)"
   ]
  },
  {
   "cell_type": "code",
   "execution_count": null,
   "id": "classified-incentive",
   "metadata": {},
   "outputs": [],
   "source": [
    "# Taux d'erreur du decisionTreeClassifier\n",
    "conf_mat = confusion_matrix(y_test, y_prediction)\n",
    "acc = conf_mat.diagonal().sum()/conf_mat.sum()\n",
    "err = 1 - acc\n",
    "print(\"taux d'erreur:\", err * 100)"
   ]
  },
  {
   "cell_type": "markdown",
   "id": "opposed-genetics",
   "metadata": {},
   "source": [
    "### Random Forrest Classifier"
   ]
  },
  {
   "cell_type": "code",
   "execution_count": null,
   "id": "registered-complex",
   "metadata": {},
   "outputs": [],
   "source": [
    "depth = range(2,12)\n",
    "estimators_count = range(2,100)\n",
    "errors = []\n",
    "estimators = []\n",
    "depths = []\n",
    "err_default = 15\n",
    "\n",
    "for e in estimators_count:\n",
    "    estimators.append(e)\n",
    "    model = RandomForestClassifier(n_estimators=e, n_jobs=-1)\n",
    "    model.fit(x_train, y_train)\n",
    "\n",
    "    err = round((1.0 - model.score(x_test, y_test)) * 100, 3)\n",
    "    errors.append(err)\n",
    "\n",
    "plt.plot(estimators, errors, 'r')\n",
    "plt.xlabel('# of trees')\n",
    "plt.show()"
   ]
  },
  {
   "cell_type": "code",
   "execution_count": null,
   "id": "aggressive-commons",
   "metadata": {},
   "outputs": [],
   "source": [
    "# Taux d'erreur par rapport au nombre d'arbres\n",
    "d = {'trees': estimators, 'errors': errors}\n",
    "pd.DataFrame(data=d).sort_values(by=['errors'])"
   ]
  },
  {
   "cell_type": "markdown",
   "id": "prerequisite-location",
   "metadata": {},
   "source": [
    "# Entrainement et prédiction optimals "
   ]
  },
  {
   "cell_type": "code",
   "execution_count": 22,
   "id": "tamil-lithuania",
   "metadata": {},
   "outputs": [
    {
     "data": {
      "text/plain": [
       "3467     9\n",
       "36891    6\n",
       "33659    5\n",
       "20365    6\n",
       "8340     0\n",
       "        ..\n",
       "29853    5\n",
       "6166     9\n",
       "8253     5\n",
       "27736    0\n",
       "40623    5\n",
       "Name: label, Length: 13860, dtype: int64"
      ]
     },
     "execution_count": 22,
     "metadata": {},
     "output_type": "execute_result"
    }
   ],
   "source": [
    "# entrainement optimal du modèle \n",
    "OPTIMUM_ESTIMATORS = 73\n",
    "\n",
    "model = RandomForestClassifier(n_estimators=OPTIMUM_ESTIMATORS)\n",
    "model.fit(x_train, y_train)\n",
    "\n",
    "# prediction sur x_test\n",
    "y_prediction = model.predict(x_test)\n",
    "\n",
    "# affichage prédiction\n",
    "y_prediction\n",
    "\n",
    "# set d'origine\n",
    "y_test"
   ]
  },
  {
   "cell_type": "markdown",
   "id": "virgin-patio",
   "metadata": {},
   "source": [
    "### Calcule du taux d'erreur du RandomForestClassifier"
   ]
  },
  {
   "cell_type": "code",
   "execution_count": 23,
   "id": "sexual-blind",
   "metadata": {},
   "outputs": [
    {
     "name": "stdout",
     "output_type": "stream",
     "text": [
      "taux d'erreur: 3.953823953823954\n"
     ]
    }
   ],
   "source": [
    "conf_mat = confusion_matrix(y_test, y_prediction)\n",
    "acc = conf_mat.diagonal().sum()/conf_mat.sum()\n",
    "err = (1 - acc) * 100\n",
    "print(\"taux d'erreur:\", err)"
   ]
  },
  {
   "cell_type": "markdown",
   "id": "trained-prayer",
   "metadata": {},
   "source": [
    "# Sauvegarde du progrés"
   ]
  },
  {
   "cell_type": "code",
   "execution_count": 41,
   "id": "annoying-joining",
   "metadata": {},
   "outputs": [
    {
     "name": "stdout",
     "output_type": "stream",
     "text": [
      "True\n"
     ]
    }
   ],
   "source": [
    "progress_dict = digits['label'].value_counts().to_dict()\n",
    "\n",
    "arr = list()\n",
    "for key,value in progress_dict.items():\n",
    "    arr.insert(key, value)\n",
    "\n",
    "arr.append(err)\n",
    "arr.append(date.today().strftime('%Y-%m-%d'))\n",
    "\n",
    "with open('progress.csv','a') as file:\n",
    "        if os.stat(\"./progress.csv\").st_size == 0:\n",
    "            file.write(\"0,1,2,3,4,5,6,7,8,9,error_percentage,execution_date\\n\")\n",
    "        file.write((','.join([str(i) for i in arr]) + '\\n'))"
   ]
  },
  {
   "cell_type": "markdown",
   "id": "mechanical-diary",
   "metadata": {},
   "source": [
    "# Sauvegarde du modèle"
   ]
  },
  {
   "cell_type": "code",
   "execution_count": 42,
   "id": "arctic-conditions",
   "metadata": {},
   "outputs": [],
   "source": [
    "filename = \"./model.pkl\"\n",
    "\n",
    "pickle.dump(model, open(filename, 'wb'))"
   ]
  }
 ],
 "metadata": {
  "kernelspec": {
   "display_name": "Python 3",
   "language": "python",
   "name": "python3"
  },
  "language_info": {
   "codemirror_mode": {
    "name": "ipython",
    "version": 3
   },
   "file_extension": ".py",
   "mimetype": "text/x-python",
   "name": "python",
   "nbconvert_exporter": "python",
   "pygments_lexer": "ipython3",
   "version": "3.8.6"
  }
 },
 "nbformat": 4,
 "nbformat_minor": 5
}
